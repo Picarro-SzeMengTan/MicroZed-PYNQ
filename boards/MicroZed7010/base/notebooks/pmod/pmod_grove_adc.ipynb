{
 "cells": [
  {
   "cell_type": "markdown",
   "metadata": {},
   "source": [
    "# Grove ADC Example\n",
    "\n",
    "This example shows how to use the Grove ADC.\n",
    "\n",
    "A Grove I2C ADC (v1.2) and PYNQ Grove Adapter are required. An analog input is also required. In this example, the Grove slide potentiometer was used.\n",
    "\n",
    "In the example, the ADC is initialized, a test read is done, and then the sensor is set to log a reading every 100 milliseconds. The ADC can be connected to any Grove peripheral that provides an analog voltage. "
   ]
  },
  {
   "cell_type": "markdown",
   "metadata": {},
   "source": [
    "## 1. Using Pmod to Grove Adapter\n",
    "This example uses the PYNQ Pmod to Grove adapter. The adapter is connected to PMODA, and the grove ADC is connected to group `G4` on adapter.\n",
    "### 1. Simple ADC read()"
   ]
  },
  {
   "cell_type": "code",
   "execution_count": 26,
   "metadata": {},
   "outputs": [],
   "source": [
    "from pynq.overlays.base import BaseOverlay\n",
    "base = BaseOverlay(\"base.bit\")"
   ]
  },
  {
   "cell_type": "code",
   "execution_count": 28,
   "metadata": {
    "scrolled": true
   },
   "outputs": [
    {
     "name": "stdout",
     "output_type": "stream",
     "text": [
      "3.3149 V\n"
     ]
    }
   ],
   "source": [
    "from pynq.lib.pmod import Grove_ADC\n",
    "from pynq.lib.pmod import PMOD_GROVE_G4\n",
    "\n",
    "grove_adc = Grove_ADC(base.PMODA,PMOD_GROVE_G4)\n",
    "print(\"{} V\".format(round(grove_adc.read(),4)))"
   ]
  },
  {
   "cell_type": "markdown",
   "metadata": {},
   "source": [
    "### 2. Starting logging once every 100 milliseconds"
   ]
  },
  {
   "cell_type": "code",
   "execution_count": 29,
   "metadata": {},
   "outputs": [],
   "source": [
    "grove_adc.set_log_interval_ms(100)\n",
    "grove_adc.start_log()"
   ]
  },
  {
   "cell_type": "markdown",
   "metadata": {},
   "source": [
    "### 3. Try to change the input signal during the logging. \n",
    "\n",
    "For example, if using the Grove slide potentiometer, move the slider back and forth (slowly). \n",
    "\n",
    "Stop the logging whenever done trying to change sensor's value."
   ]
  },
  {
   "cell_type": "code",
   "execution_count": 30,
   "metadata": {},
   "outputs": [],
   "source": [
    "log = grove_adc.get_log()"
   ]
  },
  {
   "cell_type": "markdown",
   "metadata": {},
   "source": [
    "### 4. Plot values over time\n",
    "The voltage values can be logged and displayed."
   ]
  },
  {
   "cell_type": "code",
   "execution_count": 31,
   "metadata": {
    "scrolled": false
   },
   "outputs": [
    {
     "data": {
      "image/png": "[encoded data removed]",
      "text/plain": [
       "<matplotlib.figure.Figure at 0x2f47eb90>"
      ]
     },
     "metadata": {},
     "output_type": "display_data"
    }
   ],
   "source": [
    "%matplotlib inline\n",
    "import matplotlib.pyplot as plt\n",
    "\n",
    "plt.plot(range(len(log)), log, 'ro')\n",
    "plt.title('Grove ADC Voltage Log')\n",
    "plt.axis([0, len(log), min(log), max(log)])\n",
    "plt.show()"
   ]
  },
  {
   "cell_type": "markdown",
   "metadata": {},
   "source": [
    "This version with limited functionality in the overlays to fit for zynq 7010 does not support code for Arduino shield overlays:\n",
    "<!--## 2. Using Arduino Shield\n",
    "This example uses the PYNQ Arduino shield. The grove ADC can be connected to any of the `I2C` groups on the shield.-->\n",
    "<!--### 1. Instantiation and read a single value-->"
   ]
  },
  {
   "cell_type": "code",
   "execution_count": 33,
   "metadata": {},
   "outputs": [],
   "source": [
    "#from pynq.lib.arduino import Grove_ADC\n",
    "#from pynq.lib.arduino import ARDUINO_GROVE_I2C\n",
    "#grove_adc = Grove_ADC(base.ARDUINO,ARDUINO_GROVE_I2C)\n",
    "#print(\"{} V\".format(round(grove_adc.read(),4)))"
   ]
  },
  {
   "cell_type": "markdown",
   "metadata": {},
   "source": [
    "<!--### 2. Starting logging once every 100 milliseconds-->"
   ]
  },
  {
   "cell_type": "code",
   "execution_count": 7,
   "metadata": {
    "collapsed": true
   },
   "outputs": [],
   "source": [
    "#grove_adc.set_log_interval_ms(100)\n",
    "#grove_adc.start_log()"
   ]
  },
  {
   "cell_type": "markdown",
   "metadata": {},
   "source": [
    "<!--### 3. Try to change the input signal during the logging.-->\n",
    "\n",
    "<!--For example, if using the Grove slide potentiometer, move the slider back and forth (slowly). \n",
    "\n",
    "<!--Stop the logging whenever done trying to change sensor's value.-->"
   ]
  },
  {
   "cell_type": "code",
   "execution_count": 34,
   "metadata": {},
   "outputs": [],
   "source": [
    "#log = grove_adc.get_log()"
   ]
  },
  {
   "cell_type": "markdown",
   "metadata": {},
   "source": [
    "<!--### 4. Plot values over time-->\n",
    "<!--The voltage values can be logged and displayed.-->"
   ]
  },
  {
   "cell_type": "code",
   "execution_count": 36,
   "metadata": {},
   "outputs": [],
   "source": [
    "#%matplotlib inline\n",
    "#import matplotlib.pyplot as plt\n",
    "\n",
    "#plt.plot(range(len(log)), log, 'ro')\n",
    "#plt.title('Grove ADC Voltage Log')\n",
    "#plt.axis([0, len(log), min(log), max(log)])\n",
    "#plt.show()"
   ]
  },
  {
   "cell_type": "code",
   "execution_count": null,
   "metadata": {},
   "outputs": [],
   "source": []
  }
 ],
 "metadata": {
  "kernelspec": {
   "display_name": "Python 3",
   "language": "python",
   "name": "python3"
  },
  "language_info": {
   "codemirror_mode": {
    "name": "ipython",
    "version": 3
   },
   "file_extension": ".py",
   "mimetype": "text/x-python",
   "name": "python",
   "nbconvert_exporter": "python",
   "pygments_lexer": "ipython3",
   "version": "3.6.0"
  }
 },
 "nbformat": 4,
 "nbformat_minor": 1
}
